{
 "cells": [
  {
   "cell_type": "code",
   "execution_count": 43,
   "metadata": {},
   "outputs": [],
   "source": [
    "import pandas as pd \n",
    "import numpy as np\n",
    "import matplotlib.pyplot as plt\n",
    "from matplotlib import pyplot\n",
    "from pandas import set_option\n",
    "from sklearn.decomposition import PCA\n",
    "from sklearn.preprocessing import StandardScaler\n",
    "%matplotlib inline"
   ]
  },
  {
   "cell_type": "markdown",
   "metadata": {},
   "source": [
    "## Extracting Features"
   ]
  },
  {
   "cell_type": "code",
   "execution_count": 45,
   "metadata": {},
   "outputs": [
    {
     "name": "stdout",
     "output_type": "stream",
     "text": [
      "561\n"
     ]
    }
   ],
   "source": [
    "path=\"Data/\"\n",
    "features = list()\n",
    "with open(path+\"Features.txt\") as f:\n",
    "    for line in f:\n",
    "        features.append(line.split()[1])\n",
    "print(len(features))\n"
   ]
  },
  {
   "cell_type": "markdown",
   "metadata": {},
   "source": [
    "## Reading train data"
   ]
  },
  {
   "cell_type": "code",
   "execution_count": 48,
   "metadata": {},
   "outputs": [
    {
     "data": {
      "text/plain": "   tBodyAcc-mean()-X  tBodyAcc-mean()-Y  tBodyAcc-mean()-Z  tBodyAcc-std()-X  \\\n0               0.28              -0.02              -0.12              -1.0   \n1               0.28              -0.02              -0.11              -1.0   \n2               0.28              -0.03              -0.12              -1.0   \n3               0.28              -0.02              -0.12              -1.0   \n4               0.28              -0.01              -0.11              -1.0   \n\n   tBodyAcc-std()-Y  tBodyAcc-std()-Z  tBodyAcc-mad()-X  tBodyAcc-mad()-Y  \\\n0             -0.98             -0.96              -1.0             -0.97   \n1             -0.97             -0.98              -1.0             -0.96   \n2             -0.98             -0.99              -1.0             -0.98   \n3             -0.98             -0.99              -1.0             -0.98   \n4             -0.99             -1.00              -1.0             -0.99   \n\n   tBodyAcc-mad()-Z  tBodyAcc-max()-X  ...  angle(tBodyAccMean,gravity)  \\\n0             -0.96             -0.94  ...                         0.05   \n1             -0.98             -0.94  ...                        -0.12   \n2             -0.99             -0.94  ...                        -0.04   \n3             -0.99             -0.94  ...                         0.12   \n4             -1.00             -0.94  ...                         0.08   \n\n   angle(tBodyAccJerkMean),gravityMean)  angle(tBodyGyroMean,gravityMean)  \\\n0                             -7.43e-03                             -0.73   \n1                              1.78e-01                              0.10   \n2                             -1.29e-02                              0.64   \n3                              1.23e-01                              0.69   \n4                             -1.43e-01                              0.28   \n\n   angle(tBodyGyroJerkMean,gravityMean)  angle(X,gravityMean)  \\\n0                                  0.70                 -0.84   \n1                                  0.81                 -0.85   \n2                                 -0.49                 -0.85   \n3                                 -0.62                 -0.85   \n4                                 -0.37                 -0.85   \n\n   angle(Y,gravityMean)  angle(Z,gravityMean)  subject_id  activity  \\\n0                  0.18                 -0.05           1         5   \n1                  0.18                 -0.05           1         5   \n2                  0.18                 -0.05           1         5   \n3                  0.19                 -0.04           1         5   \n4                  0.18                 -0.04           1         5   \n\n   activity_name  \n0       STANDING  \n1       STANDING  \n2       STANDING  \n3       STANDING  \n4       STANDING  \n\n[5 rows x 564 columns]",
      "text/html": "<div>\n<style scoped>\n    .dataframe tbody tr th:only-of-type {\n        vertical-align: middle;\n    }\n\n    .dataframe tbody tr th {\n        vertical-align: top;\n    }\n\n    .dataframe thead th {\n        text-align: right;\n    }\n</style>\n<table border=\"1\" class=\"dataframe\">\n  <thead>\n    <tr style=\"text-align: right;\">\n      <th></th>\n      <th>tBodyAcc-mean()-X</th>\n      <th>tBodyAcc-mean()-Y</th>\n      <th>tBodyAcc-mean()-Z</th>\n      <th>tBodyAcc-std()-X</th>\n      <th>tBodyAcc-std()-Y</th>\n      <th>tBodyAcc-std()-Z</th>\n      <th>tBodyAcc-mad()-X</th>\n      <th>tBodyAcc-mad()-Y</th>\n      <th>tBodyAcc-mad()-Z</th>\n      <th>tBodyAcc-max()-X</th>\n      <th>...</th>\n      <th>angle(tBodyAccMean,gravity)</th>\n      <th>angle(tBodyAccJerkMean),gravityMean)</th>\n      <th>angle(tBodyGyroMean,gravityMean)</th>\n      <th>angle(tBodyGyroJerkMean,gravityMean)</th>\n      <th>angle(X,gravityMean)</th>\n      <th>angle(Y,gravityMean)</th>\n      <th>angle(Z,gravityMean)</th>\n      <th>subject_id</th>\n      <th>activity</th>\n      <th>activity_name</th>\n    </tr>\n  </thead>\n  <tbody>\n    <tr>\n      <th>0</th>\n      <td>0.28</td>\n      <td>-0.02</td>\n      <td>-0.12</td>\n      <td>-1.0</td>\n      <td>-0.98</td>\n      <td>-0.96</td>\n      <td>-1.0</td>\n      <td>-0.97</td>\n      <td>-0.96</td>\n      <td>-0.94</td>\n      <td>...</td>\n      <td>0.05</td>\n      <td>-7.43e-03</td>\n      <td>-0.73</td>\n      <td>0.70</td>\n      <td>-0.84</td>\n      <td>0.18</td>\n      <td>-0.05</td>\n      <td>1</td>\n      <td>5</td>\n      <td>STANDING</td>\n    </tr>\n    <tr>\n      <th>1</th>\n      <td>0.28</td>\n      <td>-0.02</td>\n      <td>-0.11</td>\n      <td>-1.0</td>\n      <td>-0.97</td>\n      <td>-0.98</td>\n      <td>-1.0</td>\n      <td>-0.96</td>\n      <td>-0.98</td>\n      <td>-0.94</td>\n      <td>...</td>\n      <td>-0.12</td>\n      <td>1.78e-01</td>\n      <td>0.10</td>\n      <td>0.81</td>\n      <td>-0.85</td>\n      <td>0.18</td>\n      <td>-0.05</td>\n      <td>1</td>\n      <td>5</td>\n      <td>STANDING</td>\n    </tr>\n    <tr>\n      <th>2</th>\n      <td>0.28</td>\n      <td>-0.03</td>\n      <td>-0.12</td>\n      <td>-1.0</td>\n      <td>-0.98</td>\n      <td>-0.99</td>\n      <td>-1.0</td>\n      <td>-0.98</td>\n      <td>-0.99</td>\n      <td>-0.94</td>\n      <td>...</td>\n      <td>-0.04</td>\n      <td>-1.29e-02</td>\n      <td>0.64</td>\n      <td>-0.49</td>\n      <td>-0.85</td>\n      <td>0.18</td>\n      <td>-0.05</td>\n      <td>1</td>\n      <td>5</td>\n      <td>STANDING</td>\n    </tr>\n    <tr>\n      <th>3</th>\n      <td>0.28</td>\n      <td>-0.02</td>\n      <td>-0.12</td>\n      <td>-1.0</td>\n      <td>-0.98</td>\n      <td>-0.99</td>\n      <td>-1.0</td>\n      <td>-0.98</td>\n      <td>-0.99</td>\n      <td>-0.94</td>\n      <td>...</td>\n      <td>0.12</td>\n      <td>1.23e-01</td>\n      <td>0.69</td>\n      <td>-0.62</td>\n      <td>-0.85</td>\n      <td>0.19</td>\n      <td>-0.04</td>\n      <td>1</td>\n      <td>5</td>\n      <td>STANDING</td>\n    </tr>\n    <tr>\n      <th>4</th>\n      <td>0.28</td>\n      <td>-0.01</td>\n      <td>-0.11</td>\n      <td>-1.0</td>\n      <td>-0.99</td>\n      <td>-1.00</td>\n      <td>-1.0</td>\n      <td>-0.99</td>\n      <td>-1.00</td>\n      <td>-0.94</td>\n      <td>...</td>\n      <td>0.08</td>\n      <td>-1.43e-01</td>\n      <td>0.28</td>\n      <td>-0.37</td>\n      <td>-0.85</td>\n      <td>0.18</td>\n      <td>-0.04</td>\n      <td>1</td>\n      <td>5</td>\n      <td>STANDING</td>\n    </tr>\n  </tbody>\n</table>\n<p>5 rows × 564 columns</p>\n</div>"
     },
     "execution_count": 48,
     "metadata": {},
     "output_type": "execute_result"
    }
   ],
   "source": [
    "train_df = pd.read_csv(path+\"train/X_train.txt\", delim_whitespace = True)\n",
    "train_df.columns = features\n",
    "# print(train_df)\n",
    "\n",
    "train_df[\"subject_id\"] = pd.read_csv(path+\"train/subject_train.txt\", header = None, squeeze = True) #squeeze = True will \n",
    "# #return data in pandas series format\n",
    "\n",
    "train_df[\"activity\"] = pd.read_csv(path+\"train/y_train.txt\", header = None, squeeze = True)\n",
    "\n",
    "activity = pd.read_csv(path+\"train/y_train.txt\", header = None, squeeze = True)\n",
    "\n",
    "#mapping activity to activity name\n",
    "label_name = activity.map({1: \"WALKING\", 2:\"WALKING_UPSTAIRS\", 3:\"WALKING_DOWNSTAIRS\", 4:\"SITTING\", 5:\"STANDING\", 6:\"LYING\"})\n",
    "\n",
    "train_df[\"activity_name\"] = label_name\n",
    "\n",
    "train_df.head()"
   ]
  },
  {
   "cell_type": "code",
   "execution_count": 49,
   "metadata": {},
   "outputs": [
    {
     "name": "stdout",
     "output_type": "stream",
     "text": [
      "Size of Train data = (7351, 564)\n"
     ]
    }
   ],
   "source": [
    "print(\"Size of Train data = {}\".format(train_df.shape))"
   ]
  },
  {
   "cell_type": "markdown",
   "metadata": {},
   "source": [
    "## Reading test Data"
   ]
  },
  {
   "cell_type": "code",
   "execution_count": 50,
   "metadata": {},
   "outputs": [
    {
     "data": {
      "text/plain": "   tBodyAcc-mean()-X  tBodyAcc-mean()-Y  tBodyAcc-mean()-Z  tBodyAcc-std()-X  \\\n0               0.29              -0.01              -0.12             -0.98   \n1               0.28              -0.03              -0.12             -0.99   \n2               0.27              -0.03              -0.12             -0.99   \n3               0.27              -0.03              -0.13             -0.99   \n4               0.28              -0.02              -0.11             -0.99   \n\n   tBodyAcc-std()-Y  tBodyAcc-std()-Z  tBodyAcc-mad()-X  tBodyAcc-mad()-Y  \\\n0             -0.97             -0.94             -0.99             -0.97   \n1             -0.97             -0.96             -0.99             -0.97   \n2             -0.97             -0.97             -1.00             -0.97   \n3             -0.97             -0.98             -0.99             -0.97   \n4             -0.97             -0.97             -0.99             -0.97   \n\n   tBodyAcc-mad()-Z  tBodyAcc-max()-X  ...  angle(tBodyAccMean,gravity)  \\\n0             -0.95             -0.89  ...                    -8.35e-02   \n1             -0.96             -0.94  ...                    -3.50e-02   \n2             -0.97             -0.94  ...                    -1.71e-02   \n3             -0.98             -0.94  ...                    -2.22e-03   \n4             -0.97             -0.94  ...                    -9.57e-02   \n\n   angle(tBodyAccJerkMean),gravityMean)  angle(tBodyGyroMean,gravityMean)  \\\n0                                  0.02                             -0.43   \n1                                  0.20                              0.06   \n2                                  0.15                              0.34   \n3                                 -0.04                              0.74   \n4                                  0.05                              0.76   \n\n   angle(tBodyGyroJerkMean,gravityMean)  angle(X,gravityMean)  \\\n0                                  0.92                 -0.70   \n1                                  0.15                 -0.70   \n2                                  0.30                 -0.70   \n3                                 -0.12                 -0.69   \n4                                 -0.07                 -0.69   \n\n   angle(Y,gravityMean)  angle(Z,gravityMean)  subject_id  activity  \\\n0                  0.28                 -0.08           2         5   \n1                  0.28                 -0.08           2         5   \n2                  0.28                 -0.08           2         5   \n3                  0.29                 -0.07           2         5   \n4                  0.29                 -0.07           2         5   \n\n   activity_name  \n0       STANDING  \n1       STANDING  \n2       STANDING  \n3       STANDING  \n4       STANDING  \n\n[5 rows x 564 columns]",
      "text/html": "<div>\n<style scoped>\n    .dataframe tbody tr th:only-of-type {\n        vertical-align: middle;\n    }\n\n    .dataframe tbody tr th {\n        vertical-align: top;\n    }\n\n    .dataframe thead th {\n        text-align: right;\n    }\n</style>\n<table border=\"1\" class=\"dataframe\">\n  <thead>\n    <tr style=\"text-align: right;\">\n      <th></th>\n      <th>tBodyAcc-mean()-X</th>\n      <th>tBodyAcc-mean()-Y</th>\n      <th>tBodyAcc-mean()-Z</th>\n      <th>tBodyAcc-std()-X</th>\n      <th>tBodyAcc-std()-Y</th>\n      <th>tBodyAcc-std()-Z</th>\n      <th>tBodyAcc-mad()-X</th>\n      <th>tBodyAcc-mad()-Y</th>\n      <th>tBodyAcc-mad()-Z</th>\n      <th>tBodyAcc-max()-X</th>\n      <th>...</th>\n      <th>angle(tBodyAccMean,gravity)</th>\n      <th>angle(tBodyAccJerkMean),gravityMean)</th>\n      <th>angle(tBodyGyroMean,gravityMean)</th>\n      <th>angle(tBodyGyroJerkMean,gravityMean)</th>\n      <th>angle(X,gravityMean)</th>\n      <th>angle(Y,gravityMean)</th>\n      <th>angle(Z,gravityMean)</th>\n      <th>subject_id</th>\n      <th>activity</th>\n      <th>activity_name</th>\n    </tr>\n  </thead>\n  <tbody>\n    <tr>\n      <th>0</th>\n      <td>0.29</td>\n      <td>-0.01</td>\n      <td>-0.12</td>\n      <td>-0.98</td>\n      <td>-0.97</td>\n      <td>-0.94</td>\n      <td>-0.99</td>\n      <td>-0.97</td>\n      <td>-0.95</td>\n      <td>-0.89</td>\n      <td>...</td>\n      <td>-8.35e-02</td>\n      <td>0.02</td>\n      <td>-0.43</td>\n      <td>0.92</td>\n      <td>-0.70</td>\n      <td>0.28</td>\n      <td>-0.08</td>\n      <td>2</td>\n      <td>5</td>\n      <td>STANDING</td>\n    </tr>\n    <tr>\n      <th>1</th>\n      <td>0.28</td>\n      <td>-0.03</td>\n      <td>-0.12</td>\n      <td>-0.99</td>\n      <td>-0.97</td>\n      <td>-0.96</td>\n      <td>-0.99</td>\n      <td>-0.97</td>\n      <td>-0.96</td>\n      <td>-0.94</td>\n      <td>...</td>\n      <td>-3.50e-02</td>\n      <td>0.20</td>\n      <td>0.06</td>\n      <td>0.15</td>\n      <td>-0.70</td>\n      <td>0.28</td>\n      <td>-0.08</td>\n      <td>2</td>\n      <td>5</td>\n      <td>STANDING</td>\n    </tr>\n    <tr>\n      <th>2</th>\n      <td>0.27</td>\n      <td>-0.03</td>\n      <td>-0.12</td>\n      <td>-0.99</td>\n      <td>-0.97</td>\n      <td>-0.97</td>\n      <td>-1.00</td>\n      <td>-0.97</td>\n      <td>-0.97</td>\n      <td>-0.94</td>\n      <td>...</td>\n      <td>-1.71e-02</td>\n      <td>0.15</td>\n      <td>0.34</td>\n      <td>0.30</td>\n      <td>-0.70</td>\n      <td>0.28</td>\n      <td>-0.08</td>\n      <td>2</td>\n      <td>5</td>\n      <td>STANDING</td>\n    </tr>\n    <tr>\n      <th>3</th>\n      <td>0.27</td>\n      <td>-0.03</td>\n      <td>-0.13</td>\n      <td>-0.99</td>\n      <td>-0.97</td>\n      <td>-0.98</td>\n      <td>-0.99</td>\n      <td>-0.97</td>\n      <td>-0.98</td>\n      <td>-0.94</td>\n      <td>...</td>\n      <td>-2.22e-03</td>\n      <td>-0.04</td>\n      <td>0.74</td>\n      <td>-0.12</td>\n      <td>-0.69</td>\n      <td>0.29</td>\n      <td>-0.07</td>\n      <td>2</td>\n      <td>5</td>\n      <td>STANDING</td>\n    </tr>\n    <tr>\n      <th>4</th>\n      <td>0.28</td>\n      <td>-0.02</td>\n      <td>-0.11</td>\n      <td>-0.99</td>\n      <td>-0.97</td>\n      <td>-0.97</td>\n      <td>-0.99</td>\n      <td>-0.97</td>\n      <td>-0.97</td>\n      <td>-0.94</td>\n      <td>...</td>\n      <td>-9.57e-02</td>\n      <td>0.05</td>\n      <td>0.76</td>\n      <td>-0.07</td>\n      <td>-0.69</td>\n      <td>0.29</td>\n      <td>-0.07</td>\n      <td>2</td>\n      <td>5</td>\n      <td>STANDING</td>\n    </tr>\n  </tbody>\n</table>\n<p>5 rows × 564 columns</p>\n</div>"
     },
     "execution_count": 50,
     "metadata": {},
     "output_type": "execute_result"
    }
   ],
   "source": [
    "test_df = pd.read_csv(path+\"test/X_test.txt\", delim_whitespace = True)\n",
    "test_df.columns = features\n",
    "\n",
    "test_df[\"subject_id\"] = pd.read_csv(path+\"test/subject_test.txt\", header = None, squeeze = True) #squeeze = True will \n",
    "#return data in pandas series format\n",
    "\n",
    "test_df[\"activity\"] = pd.read_csv(path+\"/test/y_test.txt\", header = None, squeeze = True)\n",
    "\n",
    "activity = pd.read_csv(path+\"test/y_test.txt\", header = None, squeeze = True)\n",
    "\n",
    "#mapping activity to activity name\n",
    "label_name = activity.map({1: \"WALKING\", 2:\"WALKING_UPSTAIRS\", 3:\"WALKING_DOWNSTAIRS\", 4:\"SITTING\", 5:\"STANDING\", 6:\"LYING\"})\n",
    "\n",
    "test_df[\"activity_name\"] = label_name\n",
    "\n",
    "test_df.head()"
   ]
  },
  {
   "cell_type": "code",
   "execution_count": 51,
   "metadata": {},
   "outputs": [
    {
     "name": "stdout",
     "output_type": "stream",
     "text": [
      "Number of NaN values in train data is 0\n",
      "Number of NaN values in test data is 0\n"
     ]
    }
   ],
   "source": [
    "# Checking for nan values\n",
    "print(\"Number of NaN values in train data is \"+str(train_df.isnull().sum().sum()))\n",
    "print(\"Number of NaN values in test data is \"+str(test_df.isnull().sum().sum()))"
   ]
  },
  {
   "cell_type": "code",
   "execution_count": 52,
   "metadata": {},
   "outputs": [
    {
     "name": "stdout",
     "output_type": "stream",
     "text": [
      "Number of duplicate values in train data is 0\n",
      "Number of duplicate values in test data is 0\n"
     ]
    }
   ],
   "source": [
    "# Checking for duplicate values\n",
    "print(\"Number of duplicate values in train data is \"+str(sum(train_df.duplicated())))\n",
    "print(\"Number of duplicate values in test data is \"+str(sum(test_df.duplicated())))"
   ]
  },
  {
   "cell_type": "markdown",
   "metadata": {},
   "source": [
    "## Changing Feature Name"
   ]
  },
  {
   "cell_type": "code",
   "execution_count": 53,
   "metadata": {},
   "outputs": [],
   "source": [
    "columns = train_df.columns\n",
    "columns = columns.str.replace(\"[()]\", '') \n",
    "columns = columns.str.replace(\"-\", '')\n",
    "columns = columns.str.replace(\",\", '')\n",
    "\n",
    "#here, columns is of type pandas index. By writing \"columns.str\" we have changed its type to \n",
    "#pandas string. Pandas string has method called replace which we have used here.\n",
    "\n",
    "train_df.columns = columns\n",
    "test_df.columns = columns"
   ]
  },
  {
   "cell_type": "code",
   "execution_count": 54,
   "metadata": {},
   "outputs": [
    {
     "name": "stdout",
     "output_type": "stream",
     "text": [
      "<class 'pandas.core.indexes.base.Index'>\n"
     ]
    }
   ],
   "source": [
    "train_df.columns\n",
    "features_clean=train_df.columns\n",
    "\n",
    "print(type(features_clean))"
   ]
  },
  {
   "cell_type": "code",
   "execution_count": 55,
   "metadata": {},
   "outputs": [
    {
     "data": {
      "text/plain": "   tBodyAccmeanX  tBodyAccmeanY  tBodyAccmeanZ  tBodyAccstdX  tBodyAccstdY  \\\n0           0.28          -0.02          -0.12          -1.0         -0.98   \n1           0.28          -0.02          -0.11          -1.0         -0.97   \n2           0.28          -0.03          -0.12          -1.0         -0.98   \n3           0.28          -0.02          -0.12          -1.0         -0.98   \n4           0.28          -0.01          -0.11          -1.0         -0.99   \n\n   tBodyAccstdZ  tBodyAccmadX  tBodyAccmadY  tBodyAccmadZ  tBodyAccmaxX  ...  \\\n0         -0.96          -1.0         -0.97         -0.96         -0.94  ...   \n1         -0.98          -1.0         -0.96         -0.98         -0.94  ...   \n2         -0.99          -1.0         -0.98         -0.99         -0.94  ...   \n3         -0.99          -1.0         -0.98         -0.99         -0.94  ...   \n4         -1.00          -1.0         -0.99         -1.00         -0.94  ...   \n\n   angletBodyAccMeangravity  angletBodyAccJerkMeangravityMean  \\\n0                      0.05                         -7.43e-03   \n1                     -0.12                          1.78e-01   \n2                     -0.04                         -1.29e-02   \n3                      0.12                          1.23e-01   \n4                      0.08                         -1.43e-01   \n\n   angletBodyGyroMeangravityMean  angletBodyGyroJerkMeangravityMean  \\\n0                          -0.73                               0.70   \n1                           0.10                               0.81   \n2                           0.64                              -0.49   \n3                           0.69                              -0.62   \n4                           0.28                              -0.37   \n\n   angleXgravityMean  angleYgravityMean  angleZgravityMean  subject_id  \\\n0              -0.84               0.18              -0.05           1   \n1              -0.85               0.18              -0.05           1   \n2              -0.85               0.18              -0.05           1   \n3              -0.85               0.19              -0.04           1   \n4              -0.85               0.18              -0.04           1   \n\n   activity  activity_name  \n0         5       STANDING  \n1         5       STANDING  \n2         5       STANDING  \n3         5       STANDING  \n4         5       STANDING  \n\n[5 rows x 564 columns]",
      "text/html": "<div>\n<style scoped>\n    .dataframe tbody tr th:only-of-type {\n        vertical-align: middle;\n    }\n\n    .dataframe tbody tr th {\n        vertical-align: top;\n    }\n\n    .dataframe thead th {\n        text-align: right;\n    }\n</style>\n<table border=\"1\" class=\"dataframe\">\n  <thead>\n    <tr style=\"text-align: right;\">\n      <th></th>\n      <th>tBodyAccmeanX</th>\n      <th>tBodyAccmeanY</th>\n      <th>tBodyAccmeanZ</th>\n      <th>tBodyAccstdX</th>\n      <th>tBodyAccstdY</th>\n      <th>tBodyAccstdZ</th>\n      <th>tBodyAccmadX</th>\n      <th>tBodyAccmadY</th>\n      <th>tBodyAccmadZ</th>\n      <th>tBodyAccmaxX</th>\n      <th>...</th>\n      <th>angletBodyAccMeangravity</th>\n      <th>angletBodyAccJerkMeangravityMean</th>\n      <th>angletBodyGyroMeangravityMean</th>\n      <th>angletBodyGyroJerkMeangravityMean</th>\n      <th>angleXgravityMean</th>\n      <th>angleYgravityMean</th>\n      <th>angleZgravityMean</th>\n      <th>subject_id</th>\n      <th>activity</th>\n      <th>activity_name</th>\n    </tr>\n  </thead>\n  <tbody>\n    <tr>\n      <th>0</th>\n      <td>0.28</td>\n      <td>-0.02</td>\n      <td>-0.12</td>\n      <td>-1.0</td>\n      <td>-0.98</td>\n      <td>-0.96</td>\n      <td>-1.0</td>\n      <td>-0.97</td>\n      <td>-0.96</td>\n      <td>-0.94</td>\n      <td>...</td>\n      <td>0.05</td>\n      <td>-7.43e-03</td>\n      <td>-0.73</td>\n      <td>0.70</td>\n      <td>-0.84</td>\n      <td>0.18</td>\n      <td>-0.05</td>\n      <td>1</td>\n      <td>5</td>\n      <td>STANDING</td>\n    </tr>\n    <tr>\n      <th>1</th>\n      <td>0.28</td>\n      <td>-0.02</td>\n      <td>-0.11</td>\n      <td>-1.0</td>\n      <td>-0.97</td>\n      <td>-0.98</td>\n      <td>-1.0</td>\n      <td>-0.96</td>\n      <td>-0.98</td>\n      <td>-0.94</td>\n      <td>...</td>\n      <td>-0.12</td>\n      <td>1.78e-01</td>\n      <td>0.10</td>\n      <td>0.81</td>\n      <td>-0.85</td>\n      <td>0.18</td>\n      <td>-0.05</td>\n      <td>1</td>\n      <td>5</td>\n      <td>STANDING</td>\n    </tr>\n    <tr>\n      <th>2</th>\n      <td>0.28</td>\n      <td>-0.03</td>\n      <td>-0.12</td>\n      <td>-1.0</td>\n      <td>-0.98</td>\n      <td>-0.99</td>\n      <td>-1.0</td>\n      <td>-0.98</td>\n      <td>-0.99</td>\n      <td>-0.94</td>\n      <td>...</td>\n      <td>-0.04</td>\n      <td>-1.29e-02</td>\n      <td>0.64</td>\n      <td>-0.49</td>\n      <td>-0.85</td>\n      <td>0.18</td>\n      <td>-0.05</td>\n      <td>1</td>\n      <td>5</td>\n      <td>STANDING</td>\n    </tr>\n    <tr>\n      <th>3</th>\n      <td>0.28</td>\n      <td>-0.02</td>\n      <td>-0.12</td>\n      <td>-1.0</td>\n      <td>-0.98</td>\n      <td>-0.99</td>\n      <td>-1.0</td>\n      <td>-0.98</td>\n      <td>-0.99</td>\n      <td>-0.94</td>\n      <td>...</td>\n      <td>0.12</td>\n      <td>1.23e-01</td>\n      <td>0.69</td>\n      <td>-0.62</td>\n      <td>-0.85</td>\n      <td>0.19</td>\n      <td>-0.04</td>\n      <td>1</td>\n      <td>5</td>\n      <td>STANDING</td>\n    </tr>\n    <tr>\n      <th>4</th>\n      <td>0.28</td>\n      <td>-0.01</td>\n      <td>-0.11</td>\n      <td>-1.0</td>\n      <td>-0.99</td>\n      <td>-1.00</td>\n      <td>-1.0</td>\n      <td>-0.99</td>\n      <td>-1.00</td>\n      <td>-0.94</td>\n      <td>...</td>\n      <td>0.08</td>\n      <td>-1.43e-01</td>\n      <td>0.28</td>\n      <td>-0.37</td>\n      <td>-0.85</td>\n      <td>0.18</td>\n      <td>-0.04</td>\n      <td>1</td>\n      <td>5</td>\n      <td>STANDING</td>\n    </tr>\n  </tbody>\n</table>\n<p>5 rows × 564 columns</p>\n</div>"
     },
     "execution_count": 55,
     "metadata": {},
     "output_type": "execute_result"
    }
   ],
   "source": [
    "train_df.head()"
   ]
  },
  {
   "cell_type": "markdown",
   "metadata": {},
   "source": [
    "## Feature Description"
   ]
  },
  {
   "cell_type": "code",
   "execution_count": 56,
   "outputs": [
    {
     "name": "stdout",
     "output_type": "stream",
     "text": [
      "       tBodyAccmeanX  tBodyAccmeanY  tBodyAccmeanZ  tBodyAccstdX  \\\n",
      "count        7.4e+03        7.4e+03        7.4e+03        7351.0   \n",
      "mean         2.7e-01       -1.8e-02       -1.1e-01          -0.6   \n",
      "std          7.0e-02        4.1e-02        5.7e-02           0.4   \n",
      "min         -1.0e+00       -1.0e+00       -1.0e+00          -1.0   \n",
      "25%          2.6e-01       -2.5e-02       -1.2e-01          -1.0   \n",
      "50%          2.8e-01       -1.7e-02       -1.1e-01          -0.9   \n",
      "75%          2.9e-01       -1.1e-02       -9.8e-02          -0.2   \n",
      "max          1.0e+00        1.0e+00        1.0e+00           1.0   \n",
      "\n",
      "       tBodyAccstdY  tBodyAccstdZ  tBodyAccmadX  tBodyAccmadY  tBodyAccmadZ  \\\n",
      "count       7.4e+03        7351.0        7351.0       7.4e+03        7351.0   \n",
      "mean       -5.1e-01          -0.6          -0.6      -5.3e-01          -0.6   \n",
      "std         5.0e-01           0.4           0.4       4.9e-01           0.4   \n",
      "min        -1.0e+00          -1.0          -1.0      -1.0e+00          -1.0   \n",
      "25%        -9.8e-01          -1.0          -1.0      -9.8e-01          -1.0   \n",
      "50%        -8.5e-01          -0.9          -1.0      -8.6e-01          -0.9   \n",
      "75%        -3.4e-02          -0.3          -0.3      -6.7e-02          -0.3   \n",
      "max         9.2e-01           1.0           1.0       9.7e-01           1.0   \n",
      "\n",
      "       tBodyAccmaxX  ...  fBodyBodyGyroJerkMagmeanFreq  \\\n",
      "count       7.4e+03  ...                       7.4e+03   \n",
      "mean       -4.7e-01  ...                       1.3e-01   \n",
      "std         5.4e-01  ...                       2.5e-01   \n",
      "min        -1.0e+00  ...                      -1.0e+00   \n",
      "25%        -9.4e-01  ...                      -2.3e-02   \n",
      "50%        -8.8e-01  ...                       1.3e-01   \n",
      "75%        -1.7e-02  ...                       2.9e-01   \n",
      "max         1.0e+00  ...                       9.5e-01   \n",
      "\n",
      "       fBodyBodyGyroJerkMagskewness  fBodyBodyGyroJerkMagkurtosis  \\\n",
      "count                        7351.0                        7351.0   \n",
      "mean                           -0.3                          -0.6   \n",
      "std                             0.3                           0.3   \n",
      "min                            -1.0                          -1.0   \n",
      "25%                            -0.5                          -0.8   \n",
      "50%                            -0.3                          -0.7   \n",
      "75%                            -0.1                          -0.5   \n",
      "max                             1.0                           1.0   \n",
      "\n",
      "       angletBodyAccMeangravity  angletBodyAccJerkMeangravityMean  \\\n",
      "count                   7.4e+03                           7.4e+03   \n",
      "mean                    8.7e-03                           2.2e-03   \n",
      "std                     3.4e-01                           4.5e-01   \n",
      "min                    -9.8e-01                          -1.0e+00   \n",
      "25%                    -1.2e-01                          -2.9e-01   \n",
      "50%                     9.5e-03                           8.9e-03   \n",
      "75%                     1.5e-01                           2.9e-01   \n",
      "max                     1.0e+00                           1.0e+00   \n",
      "\n",
      "       angletBodyGyroMeangravityMean  angletBodyGyroJerkMeangravityMean  \\\n",
      "count                        7.4e+03                            7.4e+03   \n",
      "mean                         8.8e-03                           -6.0e-03   \n",
      "std                          6.1e-01                            4.8e-01   \n",
      "min                         -1.0e+00                           -1.0e+00   \n",
      "25%                         -4.8e-01                           -3.8e-01   \n",
      "50%                          8.7e-03                           -2.1e-04   \n",
      "75%                          5.1e-01                            3.6e-01   \n",
      "max                          1.0e+00                            1.0e+00   \n",
      "\n",
      "       angleXgravityMean  angleYgravityMean  angleZgravityMean  \n",
      "count             7351.0            7.4e+03            7.4e+03  \n",
      "mean                -0.5            5.9e-02           -5.7e-02  \n",
      "std                  0.5            3.0e-01            2.8e-01  \n",
      "min                 -1.0           -1.0e+00           -1.0e+00  \n",
      "25%                 -0.8           -1.8e-02           -1.4e-01  \n",
      "50%                 -0.7            1.8e-01            3.2e-03  \n",
      "75%                 -0.5            2.5e-01            1.1e-01  \n",
      "max                  1.0            4.8e-01            1.0e+00  \n",
      "\n",
      "[8 rows x 813 columns]\n"
     ]
    }
   ],
   "source": [
    "data = train_df.loc[:,features_clean[:-3]]\n",
    "set_option('precision', 1)\n",
    "print(data.describe())"
   ],
   "metadata": {
    "collapsed": false,
    "pycharm": {
     "name": "#%%\n"
    }
   }
  },
  {
   "cell_type": "markdown",
   "source": [
    "## Correlations Between Features"
   ],
   "metadata": {
    "collapsed": false,
    "pycharm": {
     "name": "#%% md\n"
    }
   }
  },
  {
   "cell_type": "code",
   "execution_count": 57,
   "outputs": [
    {
     "name": "stdout",
     "output_type": "stream",
     "text": [
      "                                   tBodyAccmeanX  tBodyAccmeanY  \\\n",
      "tBodyAccmeanX                           1.00e+00       1.48e-01   \n",
      "tBodyAccmeanY                           1.48e-01       1.00e+00   \n",
      "tBodyAccmeanZ                          -2.57e-01      -7.88e-02   \n",
      "tBodyAccstdX                            6.42e-04      -4.52e-02   \n",
      "tBodyAccstdY                           -2.19e-02      -4.49e-02   \n",
      "...                                          ...            ...   \n",
      "angletBodyGyroMeangravityMean           3.75e-02       1.80e-02   \n",
      "angletBodyGyroJerkMeangravityMean       2.88e-02       7.57e-02   \n",
      "angleXgravityMean                      -3.52e-02      -5.32e-03   \n",
      "angleYgravityMean                       3.44e-02       1.06e-03   \n",
      "angleZgravityMean                       2.82e-02      -1.39e-02   \n",
      "\n",
      "                                   tBodyAccmeanZ  tBodyAccstdX  tBodyAccstdY  \\\n",
      "tBodyAccmeanX                          -2.57e-01      6.42e-04     -2.19e-02   \n",
      "tBodyAccmeanY                          -7.88e-02     -4.52e-02     -4.49e-02   \n",
      "tBodyAccmeanZ                           1.00e+00     -2.03e-02     -1.67e-02   \n",
      "tBodyAccstdX                           -2.03e-02      1.00e+00      9.27e-01   \n",
      "tBodyAccstdY                           -1.67e-02      9.27e-01      1.00e+00   \n",
      "...                                          ...           ...           ...   \n",
      "angletBodyGyroMeangravityMean          -6.37e-02      1.89e-02     -8.61e-03   \n",
      "angletBodyGyroJerkMeangravityMean      -3.40e-02     -2.48e-02     -1.46e-02   \n",
      "angleXgravityMean                       8.55e-03     -3.72e-01     -3.81e-01   \n",
      "angleYgravityMean                      -1.53e-02      4.71e-01      5.24e-01   \n",
      "angleZgravityMean                      -2.26e-02      3.95e-01      4.33e-01   \n",
      "\n",
      "                                   tBodyAccstdZ  tBodyAccmadX  tBodyAccmadY  \\\n",
      "tBodyAccmeanX                         -4.46e-02      6.31e-03         -0.02   \n",
      "tBodyAccmeanY                         -4.98e-02     -4.42e-02         -0.05   \n",
      "tBodyAccmeanZ                         -8.45e-03     -1.88e-02         -0.02   \n",
      "tBodyAccstdX                           8.52e-01      9.99e-01          0.92   \n",
      "tBodyAccstdY                           8.96e-01      9.23e-01          1.00   \n",
      "...                                         ...           ...           ...   \n",
      "angletBodyGyroMeangravityMean         -1.85e-02      1.93e-02         -0.01   \n",
      "angletBodyGyroJerkMeangravityMean     -6.47e-03     -2.50e-02         -0.01   \n",
      "angleXgravityMean                     -3.45e-01     -3.68e-01         -0.38   \n",
      "angleYgravityMean                      4.76e-01      4.67e-01          0.53   \n",
      "angleZgravityMean                      4.83e-01      3.91e-01          0.43   \n",
      "\n",
      "                                   tBodyAccmadZ  tBodyAccmaxX  ...  \\\n",
      "tBodyAccmeanX                         -4.75e-02          0.04  ...   \n",
      "tBodyAccmeanY                         -5.04e-02         -0.04  ...   \n",
      "tBodyAccmeanZ                         -2.03e-03         -0.04  ...   \n",
      "tBodyAccstdX                           8.46e-01          0.98  ...   \n",
      "tBodyAccstdY                           8.95e-01          0.92  ...   \n",
      "...                                         ...           ...  ...   \n",
      "angletBodyGyroMeangravityMean         -2.36e-02          0.02  ...   \n",
      "angletBodyGyroJerkMeangravityMean     -7.23e-03         -0.03  ...   \n",
      "angleXgravityMean                     -3.47e-01         -0.38  ...   \n",
      "angleYgravityMean                      4.78e-01          0.48  ...   \n",
      "angleZgravityMean                      4.80e-01          0.41  ...   \n",
      "\n",
      "                                   fBodyBodyGyroJerkMagmeanFreq  \\\n",
      "tBodyAccmeanX                                          3.07e-02   \n",
      "tBodyAccmeanY                                         -2.24e-02   \n",
      "tBodyAccmeanZ                                         -2.05e-02   \n",
      "tBodyAccstdX                                          -6.61e-02   \n",
      "tBodyAccstdY                                          -1.06e-01   \n",
      "...                                                         ...   \n",
      "angletBodyGyroMeangravityMean                         -2.67e-02   \n",
      "angletBodyGyroJerkMeangravityMean                      9.94e-05   \n",
      "angleXgravityMean                                      8.73e-02   \n",
      "angleYgravityMean                                     -1.00e-01   \n",
      "angleZgravityMean                                     -5.75e-02   \n",
      "\n",
      "                                   fBodyBodyGyroJerkMagskewness  \\\n",
      "tBodyAccmeanX                                         -1.76e-02   \n",
      "tBodyAccmeanY                                         -1.59e-03   \n",
      "tBodyAccmeanZ                                          2.01e-02   \n",
      "tBodyAccstdX                                           1.48e-01   \n",
      "tBodyAccstdY                                           2.06e-01   \n",
      "...                                                         ...   \n",
      "angletBodyGyroMeangravityMean                          3.45e-02   \n",
      "angletBodyGyroJerkMeangravityMean                     -1.79e-02   \n",
      "angleXgravityMean                                     -8.60e-02   \n",
      "angleYgravityMean                                      8.70e-02   \n",
      "angleZgravityMean                                      5.78e-02   \n",
      "\n",
      "                                   fBodyBodyGyroJerkMagkurtosis  \\\n",
      "tBodyAccmeanX                                         -1.56e-02   \n",
      "tBodyAccmeanY                                         -4.46e-03   \n",
      "tBodyAccmeanZ                                          1.91e-02   \n",
      "tBodyAccstdX                                           1.16e-01   \n",
      "tBodyAccstdY                                           1.77e-01   \n",
      "...                                                         ...   \n",
      "angletBodyGyroMeangravityMean                          2.45e-02   \n",
      "angletBodyGyroJerkMeangravityMean                     -1.49e-02   \n",
      "angleXgravityMean                                     -7.98e-02   \n",
      "angleYgravityMean                                      7.81e-02   \n",
      "angleZgravityMean                                      5.25e-02   \n",
      "\n",
      "                                   angletBodyAccMeangravity  \\\n",
      "tBodyAccmeanX                                     -5.44e-01   \n",
      "tBodyAccmeanY                                      7.06e-02   \n",
      "tBodyAccmeanZ                                      5.28e-02   \n",
      "tBodyAccstdX                                      -3.51e-02   \n",
      "tBodyAccstdY                                      -2.04e-02   \n",
      "...                                                     ...   \n",
      "angletBodyGyroMeangravityMean                     -6.31e-03   \n",
      "angletBodyGyroJerkMeangravityMean                 -2.08e-02   \n",
      "angleXgravityMean                                  1.18e-02   \n",
      "angleYgravityMean                                  1.56e-03   \n",
      "angleZgravityMean                                 -3.07e-03   \n",
      "\n",
      "                                   angletBodyAccJerkMeangravityMean  \\\n",
      "tBodyAccmeanX                                              1.22e-02   \n",
      "tBodyAccmeanY                                             -1.35e-02   \n",
      "tBodyAccmeanZ                                             -3.98e-02   \n",
      "tBodyAccstdX                                              -2.16e-02   \n",
      "tBodyAccstdY                                              -1.25e-02   \n",
      "...                                                             ...   \n",
      "angletBodyGyroMeangravityMean                              9.15e-03   \n",
      "angletBodyGyroJerkMeangravityMean                          3.53e-02   \n",
      "angleXgravityMean                                          2.33e-02   \n",
      "angleYgravityMean                                         -1.30e-02   \n",
      "angleZgravityMean                                         -1.75e-02   \n",
      "\n",
      "                                   angletBodyGyroMeangravityMean  \\\n",
      "tBodyAccmeanX                                           3.75e-02   \n",
      "tBodyAccmeanY                                           1.80e-02   \n",
      "tBodyAccmeanZ                                          -6.37e-02   \n",
      "tBodyAccstdX                                            1.89e-02   \n",
      "tBodyAccstdY                                           -8.61e-03   \n",
      "...                                                          ...   \n",
      "angletBodyGyroMeangravityMean                           1.00e+00   \n",
      "angletBodyGyroJerkMeangravityMean                      -1.16e-01   \n",
      "angleXgravityMean                                      -5.93e-03   \n",
      "angleYgravityMean                                      -1.23e-02   \n",
      "angleZgravityMean                                      -1.99e-02   \n",
      "\n",
      "                                   angletBodyGyroJerkMeangravityMean  \\\n",
      "tBodyAccmeanX                                               2.88e-02   \n",
      "tBodyAccmeanY                                               7.57e-02   \n",
      "tBodyAccmeanZ                                              -3.40e-02   \n",
      "tBodyAccstdX                                               -2.48e-02   \n",
      "tBodyAccstdY                                               -1.46e-02   \n",
      "...                                                              ...   \n",
      "angletBodyGyroMeangravityMean                              -1.16e-01   \n",
      "angletBodyGyroJerkMeangravityMean                           1.00e+00   \n",
      "angleXgravityMean                                           2.40e-02   \n",
      "angleYgravityMean                                          -5.87e-03   \n",
      "angleZgravityMean                                          -5.66e-03   \n",
      "\n",
      "                                   angleXgravityMean  angleYgravityMean  \\\n",
      "tBodyAccmeanX                              -3.52e-02           3.44e-02   \n",
      "tBodyAccmeanY                              -5.32e-03           1.06e-03   \n",
      "tBodyAccmeanZ                               8.55e-03          -1.53e-02   \n",
      "tBodyAccstdX                               -3.72e-01           4.71e-01   \n",
      "tBodyAccstdY                               -3.81e-01           5.24e-01   \n",
      "...                                              ...                ...   \n",
      "angletBodyGyroMeangravityMean              -5.93e-03          -1.23e-02   \n",
      "angletBodyGyroJerkMeangravityMean           2.40e-02          -5.87e-03   \n",
      "angleXgravityMean                           1.00e+00          -7.84e-01   \n",
      "angleYgravityMean                          -7.84e-01           1.00e+00   \n",
      "angleZgravityMean                          -6.44e-01           5.95e-01   \n",
      "\n",
      "                                   angleZgravityMean  \n",
      "tBodyAccmeanX                               2.82e-02  \n",
      "tBodyAccmeanY                              -1.39e-02  \n",
      "tBodyAccmeanZ                              -2.26e-02  \n",
      "tBodyAccstdX                                3.95e-01  \n",
      "tBodyAccstdY                                4.33e-01  \n",
      "...                                              ...  \n",
      "angletBodyGyroMeangravityMean              -1.99e-02  \n",
      "angletBodyGyroJerkMeangravityMean          -5.66e-03  \n",
      "angleXgravityMean                          -6.44e-01  \n",
      "angleYgravityMean                           5.95e-01  \n",
      "angleZgravityMean                           1.00e+00  \n",
      "\n",
      "[813 rows x 813 columns]\n"
     ]
    }
   ],
   "source": [
    "set_option('precision', 2)\n",
    "print(data.corr(method='pearson'))"
   ],
   "metadata": {
    "collapsed": false,
    "pycharm": {
     "name": "#%%\n"
    }
   }
  },
  {
   "cell_type": "markdown",
   "source": [
    "## Data Visualizations"
   ],
   "metadata": {
    "collapsed": false,
    "pycharm": {
     "name": "#%% md\n"
    }
   }
  },
  {
   "cell_type": "code",
   "execution_count": 39,
   "outputs": [],
   "source": [
    "#df_sample = data.sample(1000)\n",
    "#print(df_sample)\n",
    "#df_sample.hist(sharex=False, sharey=False, xlabelsize=1, ylabelsize=1)\n",
    "#pyplot.show()"
   ],
   "metadata": {
    "collapsed": false,
    "pycharm": {
     "name": "#%%\n"
    }
   }
  },
  {
   "cell_type": "code",
   "execution_count": 58,
   "metadata": {
    "scrolled": true
   },
   "outputs": [
    {
     "name": "stdout",
     "output_type": "stream",
     "text": [
      "      tBodyAccmeanX  tBodyAccmeanY  tBodyAccmeanZ  tBodyAccstdX  tBodyAccstdY  \\\n",
      "0              0.28      -1.64e-02          -0.12         -1.00     -9.75e-01   \n",
      "1              0.28      -1.95e-02          -0.11         -1.00     -9.67e-01   \n",
      "2              0.28      -2.62e-02          -0.12         -1.00     -9.83e-01   \n",
      "3              0.28      -1.66e-02          -0.12         -1.00     -9.81e-01   \n",
      "4              0.28      -1.01e-02          -0.11         -1.00     -9.90e-01   \n",
      "...             ...            ...            ...           ...           ...   \n",
      "7346           0.30      -5.72e-02          -0.18         -0.20      3.99e-02   \n",
      "7347           0.27      -7.75e-03          -0.15         -0.24      4.82e-03   \n",
      "7348           0.27      -1.70e-02          -0.05         -0.22     -1.04e-01   \n",
      "7349           0.29      -1.88e-02          -0.16         -0.22     -1.11e-01   \n",
      "7350           0.35      -1.24e-02          -0.20         -0.27     -8.72e-02   \n",
      "\n",
      "      tBodyAccstdZ  tBodyAccmadX  tBodyAccmadY  tBodyAccmadZ  tBodyAccmaxX  \\\n",
      "0            -0.96         -1.00         -0.97         -0.96         -0.94   \n",
      "1            -0.98         -1.00         -0.96         -0.98         -0.94   \n",
      "2            -0.99         -1.00         -0.98         -0.99         -0.94   \n",
      "3            -0.99         -1.00         -0.98         -0.99         -0.94   \n",
      "4            -1.00         -1.00         -0.99         -1.00         -0.94   \n",
      "...            ...           ...           ...           ...           ...   \n",
      "7346          0.08         -0.28          0.04          0.06          0.21   \n",
      "7347          0.06         -0.32         -0.03          0.08          0.12   \n",
      "7348          0.27         -0.30         -0.10          0.33          0.04   \n",
      "7349          0.27         -0.31         -0.07          0.32          0.10   \n",
      "7350          0.18         -0.38         -0.04          0.23          0.27   \n",
      "\n",
      "      ...  fBodyBodyGyroJerkMagmeanFreq  fBodyBodyGyroJerkMagskewness  \\\n",
      "0     ...                          0.16                         -0.60   \n",
      "1     ...                          0.41                         -0.39   \n",
      "2     ...                          0.40                         -0.12   \n",
      "3     ...                          0.09                         -0.35   \n",
      "4     ...                          0.02                         -0.55   \n",
      "...   ...                           ...                           ...   \n",
      "7346  ...                         -0.07                         -0.59   \n",
      "7347  ...                          0.17                         -0.39   \n",
      "7348  ...                          0.20                          0.03   \n",
      "7349  ...                          0.01                          0.06   \n",
      "7350  ...                         -0.06                         -0.39   \n",
      "\n",
      "      fBodyBodyGyroJerkMagkurtosis  angletBodyAccMeangravity  \\\n",
      "0                            -0.86                      0.05   \n",
      "1                            -0.76                     -0.12   \n",
      "2                            -0.48                     -0.04   \n",
      "3                            -0.70                      0.12   \n",
      "4                            -0.84                      0.08   \n",
      "...                            ...                       ...   \n",
      "7346                         -0.88                     -0.19   \n",
      "7347                         -0.68                      0.06   \n",
      "7348                         -0.30                      0.05   \n",
      "7349                         -0.34                     -0.10   \n",
      "7350                         -0.74                     -0.28   \n",
      "\n",
      "      angletBodyAccJerkMeangravityMean  angletBodyGyroMeangravityMean  \\\n",
      "0                            -7.43e-03                          -0.73   \n",
      "1                             1.78e-01                           0.10   \n",
      "2                            -1.29e-02                           0.64   \n",
      "3                             1.23e-01                           0.69   \n",
      "4                            -1.43e-01                           0.28   \n",
      "...                                ...                            ...   \n",
      "7346                          8.30e-01                           0.21   \n",
      "7347                          8.76e-01                          -0.88   \n",
      "7348                         -2.67e-01                           0.86   \n",
      "7349                          7.01e-01                           0.94   \n",
      "7350                         -7.74e-03                          -0.06   \n",
      "\n",
      "      angletBodyGyroJerkMeangravityMean  angleXgravityMean  angleYgravityMean  \\\n",
      "0                                  0.70              -0.84               0.18   \n",
      "1                                  0.81              -0.85               0.18   \n",
      "2                                 -0.49              -0.85               0.18   \n",
      "3                                 -0.62              -0.85               0.19   \n",
      "4                                 -0.37              -0.85               0.18   \n",
      "...                                 ...                ...                ...   \n",
      "7346                              -0.43              -0.79               0.24   \n",
      "7347                               0.40              -0.77               0.25   \n",
      "7348                               0.70              -0.78               0.25   \n",
      "7349                              -0.59              -0.79               0.25   \n",
      "7350                              -0.62              -0.78               0.25   \n",
      "\n",
      "      angleZgravityMean  \n",
      "0                 -0.05  \n",
      "1                 -0.05  \n",
      "2                 -0.05  \n",
      "3                 -0.04  \n",
      "4                 -0.04  \n",
      "...                 ...  \n",
      "7346               0.05  \n",
      "7347               0.05  \n",
      "7348               0.04  \n",
      "7349               0.03  \n",
      "7350               0.04  \n",
      "\n",
      "[7351 rows x 813 columns]\n",
      "[['STANDING']\n",
      " ['STANDING']\n",
      " ['STANDING']\n",
      " ...\n",
      " ['WALKING_UPSTAIRS']\n",
      " ['WALKING_UPSTAIRS']\n",
      " ['WALKING_UPSTAIRS']]\n",
      "[[ 0.05597152  0.03147488 -0.25395122 ... -0.69420657  0.40914928\n",
      "   0.00787361]\n",
      " [ 0.07353784 -0.0434222  -0.07634749 ... -0.70230729  0.41032053\n",
      "   0.0264995 ]\n",
      " [ 0.06671871 -0.2084162  -0.24975554 ... -0.70175219  0.41468205\n",
      "   0.03171096]\n",
      " ...\n",
      " [-0.01563933  0.01677161  1.13210055 ... -0.56592164  0.64061601\n",
      "   0.34868454]\n",
      " [ 0.21587968 -0.02812928 -0.86771834 ... -0.57774056  0.63149727\n",
      "   0.29325466]\n",
      " [ 1.09615731  0.12918132 -1.67264417 ... -0.57399979  0.63276221\n",
      "   0.33393707]]\n"
     ]
    }
   ],
   "source": [
    "train_df_x = train_df.loc[:,features_clean[:-3]]\n",
    "print(train_df_x)\n",
    "train_df_y = train_df.loc[:,['activity_name']].values\n",
    "print(train_df_y)\n",
    "\n",
    "train_df_transformed = StandardScaler().fit_transform(train_df_x)\n",
    "print(train_df_transformed)"
   ]
  },
  {
   "cell_type": "code",
   "execution_count": 59,
   "metadata": {
    "scrolled": false
   },
   "outputs": [
    {
     "name": "stdout",
     "output_type": "stream",
     "text": [
      "PCA(n_components=100)\n"
     ]
    }
   ],
   "source": [
    "# train_df.DataFrame(data = x, columns = features_clean).head()\n",
    "pca = PCA(n_components=100)\n",
    "print(pca)"
   ]
  },
  {
   "cell_type": "code",
   "execution_count": 60,
   "metadata": {},
   "outputs": [],
   "source": [
    "principalComponents = pca.fit_transform(train_df_transformed)\n",
    "pca2 = PCA(n_components=100, whiten=True)\n",
    "pca2.fit(train_df_transformed)\n",
    "X_r = pca2.transform(train_df_transformed)\n"
   ]
  },
  {
   "cell_type": "code",
   "execution_count": 61,
   "metadata": {
    "scrolled": false
   },
   "outputs": [
    {
     "data": {
      "text/plain": "   principal component 0  principal component 1  principal component 2  \\\n0                 -17.43                   2.71                   0.40   \n1                 -17.28                   3.46                   0.15   \n2                 -17.43                   4.62                  -0.44   \n3                 -17.56                   5.21                  -0.60   \n4                 -17.41                   5.22                  -0.78   \n\n   principal component 3  principal component 4  principal component 5  \\\n0                  -0.26              -3.97e-01                   0.07   \n1                  -1.58               1.69e-01                  -0.23   \n2                  -1.87              -2.27e-04                  -0.04   \n3                  -2.24              -4.48e-01                   0.17   \n4                  -2.36              -4.94e-01                   0.17   \n\n   principal component 6  principal component 7  principal component 8  \\\n0                   4.14                   3.12                  -0.31   \n1                   4.80                   2.76                   0.01   \n2                   3.58                   1.59                   0.38   \n3                   4.06                   2.01                  -0.32   \n4                   3.82                   1.15                  -0.53   \n\n   principal component 9  ...  principal component 90  principal component 91  \\\n0                  -2.06  ...                    0.32                    0.64   \n1                  -1.99  ...                   -1.58                    0.46   \n2                  -2.40  ...                    1.18                   -1.39   \n3                  -1.14  ...                   -0.07                    0.59   \n4                  -0.18  ...                    0.17                    0.18   \n\n   principal component 92  principal component 93  principal component 94  \\\n0                    0.59                    1.00                    0.64   \n1                   -0.93                    1.62                   -0.45   \n2                   -1.25                   -0.08                   -1.53   \n3                   -0.74                    0.30                    0.39   \n4                   -0.42                    1.11                    0.31   \n\n   principal component 95  principal component 96  principal component 97  \\\n0                2.18e-01                    0.11                    0.86   \n1               -1.59e-01                   -0.23                   -0.40   \n2                4.52e-02                   -0.54                   -0.17   \n3               -6.42e-01                    0.51                    1.61   \n4               -5.39e-04                   -0.60                    1.05   \n\n   principal component 98  principal component 99  \n0                    1.77                   -1.40  \n1                    0.20                   -0.18  \n2                    0.42                   -0.52  \n3                    0.93                   -0.56  \n4                   -0.39                    0.50  \n\n[5 rows x 100 columns]",
      "text/html": "<div>\n<style scoped>\n    .dataframe tbody tr th:only-of-type {\n        vertical-align: middle;\n    }\n\n    .dataframe tbody tr th {\n        vertical-align: top;\n    }\n\n    .dataframe thead th {\n        text-align: right;\n    }\n</style>\n<table border=\"1\" class=\"dataframe\">\n  <thead>\n    <tr style=\"text-align: right;\">\n      <th></th>\n      <th>principal component 0</th>\n      <th>principal component 1</th>\n      <th>principal component 2</th>\n      <th>principal component 3</th>\n      <th>principal component 4</th>\n      <th>principal component 5</th>\n      <th>principal component 6</th>\n      <th>principal component 7</th>\n      <th>principal component 8</th>\n      <th>principal component 9</th>\n      <th>...</th>\n      <th>principal component 90</th>\n      <th>principal component 91</th>\n      <th>principal component 92</th>\n      <th>principal component 93</th>\n      <th>principal component 94</th>\n      <th>principal component 95</th>\n      <th>principal component 96</th>\n      <th>principal component 97</th>\n      <th>principal component 98</th>\n      <th>principal component 99</th>\n    </tr>\n  </thead>\n  <tbody>\n    <tr>\n      <th>0</th>\n      <td>-17.43</td>\n      <td>2.71</td>\n      <td>0.40</td>\n      <td>-0.26</td>\n      <td>-3.97e-01</td>\n      <td>0.07</td>\n      <td>4.14</td>\n      <td>3.12</td>\n      <td>-0.31</td>\n      <td>-2.06</td>\n      <td>...</td>\n      <td>0.32</td>\n      <td>0.64</td>\n      <td>0.59</td>\n      <td>1.00</td>\n      <td>0.64</td>\n      <td>2.18e-01</td>\n      <td>0.11</td>\n      <td>0.86</td>\n      <td>1.77</td>\n      <td>-1.40</td>\n    </tr>\n    <tr>\n      <th>1</th>\n      <td>-17.28</td>\n      <td>3.46</td>\n      <td>0.15</td>\n      <td>-1.58</td>\n      <td>1.69e-01</td>\n      <td>-0.23</td>\n      <td>4.80</td>\n      <td>2.76</td>\n      <td>0.01</td>\n      <td>-1.99</td>\n      <td>...</td>\n      <td>-1.58</td>\n      <td>0.46</td>\n      <td>-0.93</td>\n      <td>1.62</td>\n      <td>-0.45</td>\n      <td>-1.59e-01</td>\n      <td>-0.23</td>\n      <td>-0.40</td>\n      <td>0.20</td>\n      <td>-0.18</td>\n    </tr>\n    <tr>\n      <th>2</th>\n      <td>-17.43</td>\n      <td>4.62</td>\n      <td>-0.44</td>\n      <td>-1.87</td>\n      <td>-2.27e-04</td>\n      <td>-0.04</td>\n      <td>3.58</td>\n      <td>1.59</td>\n      <td>0.38</td>\n      <td>-2.40</td>\n      <td>...</td>\n      <td>1.18</td>\n      <td>-1.39</td>\n      <td>-1.25</td>\n      <td>-0.08</td>\n      <td>-1.53</td>\n      <td>4.52e-02</td>\n      <td>-0.54</td>\n      <td>-0.17</td>\n      <td>0.42</td>\n      <td>-0.52</td>\n    </tr>\n    <tr>\n      <th>3</th>\n      <td>-17.56</td>\n      <td>5.21</td>\n      <td>-0.60</td>\n      <td>-2.24</td>\n      <td>-4.48e-01</td>\n      <td>0.17</td>\n      <td>4.06</td>\n      <td>2.01</td>\n      <td>-0.32</td>\n      <td>-1.14</td>\n      <td>...</td>\n      <td>-0.07</td>\n      <td>0.59</td>\n      <td>-0.74</td>\n      <td>0.30</td>\n      <td>0.39</td>\n      <td>-6.42e-01</td>\n      <td>0.51</td>\n      <td>1.61</td>\n      <td>0.93</td>\n      <td>-0.56</td>\n    </tr>\n    <tr>\n      <th>4</th>\n      <td>-17.41</td>\n      <td>5.22</td>\n      <td>-0.78</td>\n      <td>-2.36</td>\n      <td>-4.94e-01</td>\n      <td>0.17</td>\n      <td>3.82</td>\n      <td>1.15</td>\n      <td>-0.53</td>\n      <td>-0.18</td>\n      <td>...</td>\n      <td>0.17</td>\n      <td>0.18</td>\n      <td>-0.42</td>\n      <td>1.11</td>\n      <td>0.31</td>\n      <td>-5.39e-04</td>\n      <td>-0.60</td>\n      <td>1.05</td>\n      <td>-0.39</td>\n      <td>0.50</td>\n    </tr>\n  </tbody>\n</table>\n<p>5 rows × 100 columns</p>\n</div>"
     },
     "execution_count": 61,
     "metadata": {},
     "output_type": "execute_result"
    }
   ],
   "source": [
    "# columns = ['principal component 1', 'principal component 2']\n",
    "columns=[]\n",
    "for i in range(0,100):\n",
    "#     name=\n",
    "#     print(name)\n",
    "    columns.append(\"principal component \"+str(i))\n",
    "principalDf = pd.DataFrame(data = principalComponents\n",
    "             , columns = columns)\n",
    "principalDf.head(5)"
   ]
  },
  {
   "cell_type": "code",
   "execution_count": 62,
   "metadata": {},
   "outputs": [
    {
     "name": "stdout",
     "output_type": "stream",
     "text": [
      "Size of Test data = (7351, 100)\n"
     ]
    }
   ],
   "source": [
    "print(\"Size of Test data = {}\".format(principalDf.shape))"
   ]
  },
  {
   "cell_type": "code",
   "execution_count": 64,
   "metadata": {},
   "outputs": [],
   "source": [
    "# finalDf = train_df.concat([principalDf, train_df[['activity_name']]], axis = 1)\n",
    "principalDf[\"activity_name\"]=train_df.loc[:,[\"activity_name\"]]\n",
    "# finalDf.head(5)\n",
    "# print(principalDf)"
   ]
  },
  {
   "cell_type": "code",
   "execution_count": 65,
   "metadata": {
    "code_folding": [],
    "scrolled": true
   },
   "outputs": [
    {
     "data": {
      "text/plain": "<Figure size 576x576 with 1 Axes>",
      "image/png": "[encoded data removed]"
     },
     "metadata": {
      "needs_background": "light"
     },
     "output_type": "display_data"
    }
   ],
   "source": [
    "fig = plt.figure(figsize = (8,8))\n",
    "ax = fig.add_subplot(1,1,1) \n",
    "ax.set_xlabel('Principal Component 0', fontsize = 10)\n",
    "ax.set_ylabel('Principal Component 1', fontsize = 10)\n",
    "ax.set_title('2 Component PCA', fontsize = 15)\n",
    "\n",
    "\n",
    "targets = ['WALKING', 'WALKING_UPSTAIRS', 'WALKING_DOWNSTAIRS',\"SITTING\",\"STANDING\",\"LAYING\"]\n",
    "colors = ['r', 'g', 'b', 'yellow', 'purple','orange']\n",
    "for target, color in zip(targets,colors):\n",
    "    indicesToKeep = principalDf['activity_name'] == target\n",
    "    ax.scatter(principalDf.loc[indicesToKeep, 'principal component 0']\n",
    "               , principalDf.loc[indicesToKeep, 'principal component 1']\n",
    "               , c = color\n",
    "               , s = 1)\n",
    "ax.legend(targets)\n",
    "ax.grid()"
   ]
  },
  {
   "cell_type": "markdown",
   "source": [
    "## Breakdown of variance Ratio"
   ],
   "metadata": {
    "collapsed": false,
    "pycharm": {
     "name": "#%% md\n"
    }
   }
  },
  {
   "cell_type": "code",
   "execution_count": 80,
   "outputs": [
    {
     "name": "stdout",
     "output_type": "stream",
     "text": [
      "Overall\n",
      "[0.52017263 0.06221704 0.0346769  0.02310699 0.01948544 0.01651018\n",
      " 0.0155078  0.0141196  0.01203984 0.01034128 0.00987046 0.0086886\n",
      " 0.0084436  0.00756214 0.00690848 0.00668392 0.00630784 0.00567077\n",
      " 0.00542304 0.00523344 0.00499428 0.0048446  0.00446842 0.00438345\n",
      " 0.00407451 0.00397725 0.00390288 0.00368901 0.00353052 0.00342183\n",
      " 0.00327173 0.00325745 0.00310818 0.00307447 0.00303202 0.00291374\n",
      " 0.00284448 0.00280503 0.00276598 0.00265619 0.00256524 0.00250888\n",
      " 0.00247386 0.00241604 0.00237869 0.0023479  0.00217867 0.00210105\n",
      " 0.00201676 0.00197261 0.00192718 0.00187416 0.00185668 0.00181008\n",
      " 0.00179475 0.00173445 0.00169857 0.00167173 0.0016431  0.00158013\n",
      " 0.00154494 0.00149411 0.0014696  0.00145051 0.00142022 0.00137727\n",
      " 0.00136814 0.00134949 0.00133211 0.00130485 0.0012666  0.00124647\n",
      " 0.00123007 0.001211   0.00119644 0.00119062 0.00116205 0.00114283\n",
      " 0.00112974 0.00110804 0.0010998  0.0010803  0.00105647 0.00102263\n",
      " 0.00100615 0.00099302 0.0009675  0.00094548 0.00094515 0.00093938\n",
      " 0.00091085 0.00089948 0.00089394 0.00087852 0.0008775  0.00085027\n",
      " 0.00082052 0.00080975 0.00080705 0.00076849]\n",
      "Component 1 explains ratio: 0.520173\n",
      "Component 2 explains ratio: 0.062217\n",
      "Component 3 explains ratio: 0.034677\n",
      "Component 4 explains ratio: 0.023107\n",
      "Component 5 explains ratio: 0.019485\n",
      "Component 6 explains ratio: 0.016510\n",
      "Component 7 explains ratio: 0.015508\n",
      "Component 8 explains ratio: 0.014120\n",
      "Component 9 explains ratio: 0.012040\n",
      "Component 10 explains ratio: 0.010341\n",
      "Component 11 explains ratio: 0.009870\n",
      "Component 12 explains ratio: 0.008689\n",
      "Component 13 explains ratio: 0.008444\n",
      "Component 14 explains ratio: 0.007562\n",
      "Component 15 explains ratio: 0.006908\n",
      "Component 16 explains ratio: 0.006684\n",
      "Component 17 explains ratio: 0.006308\n",
      "Component 18 explains ratio: 0.005671\n",
      "Component 19 explains ratio: 0.005423\n",
      "Component 20 explains ratio: 0.005233\n",
      "Component 21 explains ratio: 0.004994\n",
      "Component 22 explains ratio: 0.004845\n",
      "Component 23 explains ratio: 0.004468\n",
      "Component 24 explains ratio: 0.004383\n",
      "Component 25 explains ratio: 0.004075\n",
      "Component 26 explains ratio: 0.003977\n",
      "Component 27 explains ratio: 0.003903\n",
      "Component 28 explains ratio: 0.003689\n",
      "Component 29 explains ratio: 0.003531\n",
      "Component 30 explains ratio: 0.003422\n",
      "Component 31 explains ratio: 0.003272\n",
      "Component 32 explains ratio: 0.003257\n",
      "Component 33 explains ratio: 0.003108\n",
      "Component 34 explains ratio: 0.003074\n",
      "Component 35 explains ratio: 0.003032\n",
      "Component 36 explains ratio: 0.002914\n",
      "Component 37 explains ratio: 0.002844\n",
      "Component 38 explains ratio: 0.002805\n",
      "Component 39 explains ratio: 0.002766\n",
      "Component 40 explains ratio: 0.002656\n",
      "Component 41 explains ratio: 0.002565\n",
      "Component 42 explains ratio: 0.002509\n",
      "Component 43 explains ratio: 0.002474\n",
      "Component 44 explains ratio: 0.002416\n",
      "Component 45 explains ratio: 0.002379\n",
      "Component 46 explains ratio: 0.002348\n",
      "Component 47 explains ratio: 0.002179\n",
      "Component 48 explains ratio: 0.002101\n",
      "Component 49 explains ratio: 0.002017\n",
      "Component 50 explains ratio: 0.001973\n",
      "Component 51 explains ratio: 0.001927\n",
      "Component 52 explains ratio: 0.001874\n",
      "Component 53 explains ratio: 0.001857\n",
      "Component 54 explains ratio: 0.001810\n",
      "Component 55 explains ratio: 0.001795\n",
      "Component 56 explains ratio: 0.001735\n",
      "Component 57 explains ratio: 0.001699\n",
      "Component 58 explains ratio: 0.001671\n",
      "Component 59 explains ratio: 0.001643\n",
      "Component 60 explains ratio: 0.001580\n",
      "Component 61 explains ratio: 0.001545\n",
      "Component 62 explains ratio: 0.001494\n",
      "Component 63 explains ratio: 0.001469\n",
      "Component 64 explains ratio: 0.001450\n",
      "Component 65 explains ratio: 0.001420\n",
      "Component 66 explains ratio: 0.001377\n",
      "Component 67 explains ratio: 0.001367\n",
      "Component 68 explains ratio: 0.001350\n",
      "Component 69 explains ratio: 0.001330\n",
      "Component 70 explains ratio: 0.001305\n",
      "Component 71 explains ratio: 0.001266\n",
      "Component 72 explains ratio: 0.001247\n",
      "Component 73 explains ratio: 0.001229\n",
      "Component 74 explains ratio: 0.001210\n",
      "Component 75 explains ratio: 0.001196\n",
      "Component 76 explains ratio: 0.001188\n",
      "Component 77 explains ratio: 0.001164\n",
      "Component 78 explains ratio: 0.001145\n",
      "Component 79 explains ratio: 0.001131\n",
      "Component 80 explains ratio: 0.001105\n",
      "Component 81 explains ratio: 0.001094\n",
      "Component 82 explains ratio: 0.001075\n",
      "Component 83 explains ratio: 0.001058\n",
      "Component 84 explains ratio: 0.001030\n",
      "Component 85 explains ratio: 0.001004\n",
      "Component 86 explains ratio: 0.000988\n",
      "Component 87 explains ratio: 0.000980\n",
      "Component 88 explains ratio: 0.000949\n",
      "Component 89 explains ratio: 0.000942\n",
      "Component 90 explains ratio: 0.000933\n",
      "Component 91 explains ratio: 0.000908\n",
      "Component 92 explains ratio: 0.000906\n",
      "Component 93 explains ratio: 0.000893\n",
      "Component 94 explains ratio: 0.000873\n",
      "Component 95 explains ratio: 0.000871\n",
      "Component 96 explains ratio: 0.000857\n",
      "Component 97 explains ratio: 0.000825\n",
      "Component 98 explains ratio: 0.000809\n",
      "Component 99 explains ratio: 0.000797\n",
      "Component 100 explains ratio: 0.000787\n"
     ]
    }
   ],
   "source": [
    "NUMBER_OF_COMPONENTS = 100\n",
    "print(\"Overall\")\n",
    "print(pca2.explained_variance_ratio_)\n",
    "for component in range(NUMBER_OF_COMPONENTS):\n",
    "    comp = pca.components_[component]\n",
    "    print(\"Component %i explains ratio: %.6f\" % ((component + 1),pca.explained_variance_ratio_[component]) )\n",
    "    sorted_index = np.argsort(comp)\n",
    "    #for i in reversed(range(len(sorted_index))):\n",
    "        #print(\"%.6f\\t%s\" % (comp[sorted_index[i]], train_df_x.columns[sorted_index[i]]))\n",
    "        #print(\"\")"
   ],
   "metadata": {
    "collapsed": false,
    "pycharm": {
     "name": "#%%\n"
    }
   }
  },
  {
   "cell_type": "code",
   "execution_count": 66,
   "metadata": {
    "scrolled": false
   },
   "outputs": [
    {
     "data": {
      "text/plain": "<Figure size 1600x700 with 1 Axes>",
      "image/png": "[encoded data removed]"
     },
     "metadata": {
      "needs_background": "light"
     },
     "output_type": "display_data"
    }
   ],
   "source": [
    "variance_exp_cumsum = pca.explained_variance_ratio_.cumsum()\n",
    "fig, axes = plt.subplots(1,1,figsize=(16,7), dpi=100)\n",
    "plt.plot(variance_exp_cumsum, color='firebrick')\n",
    "plt.title('Screeplot of Variance Explained %', fontsize=22)\n",
    "plt.xlabel('# of PCs', fontsize=16)\n",
    "plt.show()"
   ]
  },
  {
   "cell_type": "code",
   "execution_count": 69,
   "metadata": {},
   "outputs": [
    {
     "name": "stderr",
     "output_type": "stream",
     "text": [
      "/usr/local/lib/python3.8/site-packages/sklearn/utils/validation.py:73: DataConversionWarning: A column-vector y was passed when a 1d array was expected. Please change the shape of y to (n_samples, ), for example using ravel().\n",
      "  return f(**kwargs)\n"
     ]
    },
    {
     "data": {
      "text/plain": "SVC()"
     },
     "execution_count": 69,
     "metadata": {},
     "output_type": "execute_result"
    }
   ],
   "source": [
    "from sklearn.svm import SVC\n",
    "# Make SVC\n",
    "linclass2 = SVC()\n",
    "linclass2.fit(X_r,train_df_y)"
   ]
  },
  {
   "cell_type": "code",
   "execution_count": 72,
   "metadata": {
    "scrolled": true
   },
   "outputs": [],
   "source": [
    "X_red_validation = pca2.transform(train_df_transformed)\n",
    "yhat_validation = linclass2.predict(X_red_validation)\n",
    "\n",
    "y_validation = train_df_y"
   ]
  },
  {
   "cell_type": "markdown",
   "metadata": {},
   "source": []
  },
  {
   "cell_type": "code",
   "execution_count": 73,
   "metadata": {},
   "outputs": [],
   "source": [
    "import seaborn as sns\n",
    "\n",
    "from sklearn.metrics import confusion_matrix\n",
    "\n",
    "def plot_cm(y_validation, yhat_validation, class_names=['WALKING', 'WALKING_UPSTAIRS', 'WALKING_DOWNSTAIRS',\"SITTING\",\"STANDING\",\"LAYING\"]):\n",
    "    cm = confusion_matrix(y_validation,yhat_validation)\n",
    "    fig, ax = plt.subplots(figsize=(13, 11)) \n",
    "    ax = sns.heatmap(\n",
    "          cm, \n",
    "          annot=True, \n",
    "          fmt=\"d\", \n",
    "          cmap='inferno',\n",
    "          ax=ax\n",
    "    )\n",
    "\n",
    "    plt.ylabel('Actual')\n",
    "    plt.xlabel('Predicted')\n",
    "    plt.xticks(rotation=45)\n",
    "    ax.set_title('Confusion Matrix')\n",
    "    ax.set_xticklabels(class_names)\n",
    "    ax.set_yticklabels(class_names, rotation=0)\n",
    "    b, t = plt.ylim() \n",
    "    b += 0.5 \n",
    "    t -= 0.5 \n",
    "    plt.ylim(b, t) \n",
    "    plt.show() \n"
   ]
  },
  {
   "cell_type": "code",
   "execution_count": 194,
   "metadata": {},
   "outputs": [
    {
     "data": {
      "image/png": "[encoded data removed]",
      "text/plain": [
       "<Figure size 936x792 with 2 Axes>"
      ]
     },
     "metadata": {
      "needs_background": "light"
     },
     "output_type": "display_data"
    }
   ],
   "source": [
    "plot_cm(y_validation, yhat_validation,)"
   ]
  }
 ],
 "metadata": {
  "kernelspec": {
   "display_name": "Python 3",
   "language": "python",
   "name": "python3"
  },
  "language_info": {
   "codemirror_mode": {
    "name": "ipython",
    "version": 3
   },
   "file_extension": ".py",
   "mimetype": "text/x-python",
   "name": "python",
   "nbconvert_exporter": "python",
   "pygments_lexer": "ipython3",
   "version": "3.7.6"
  }
 },
 "nbformat": 4,
 "nbformat_minor": 4
}