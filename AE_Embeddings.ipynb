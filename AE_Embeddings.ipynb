{
 "cells": [
  {
   "cell_type": "code",
   "execution_count": 1,
   "metadata": {},
   "outputs": [],
   "source": [
    "import numpy as np\n",
    "import pandas as pd\n",
    "from matplotlib import pyplot\n",
    "import matplotlib.pyplot as plt\n",
    "\n",
    "from keras.models import Model\n",
    "from keras.layers import Input, Dense, Conv2D, MaxPooling2D, UpSampling2D\n",
    "from keras import backend as K\n",
    "\n",
    "%matplotlib inline"
   ]
  },
  {
   "cell_type": "code",
   "execution_count": 2,
   "metadata": {},
   "outputs": [
    {
     "name": "stdout",
     "output_type": "stream",
     "text": [
      "561\n"
     ]
    }
   ],
   "source": [
    "path=\"Data/UCI HAR Dataset/\"\n",
    "features = list()\n",
    "with open(path+\"Features.txt\") as f:\n",
    "    for line in f:\n",
    "        features.append(line.split()[1])\n",
    "print(len(features))"
   ]
  },
  {
   "cell_type": "code",
   "execution_count": 3,
   "metadata": {},
   "outputs": [
    {
     "data": {
      "text/html": [
       "<div>\n",
       "<style scoped>\n",
       "    .dataframe tbody tr th:only-of-type {\n",
       "        vertical-align: middle;\n",
       "    }\n",
       "\n",
       "    .dataframe tbody tr th {\n",
       "        vertical-align: top;\n",
       "    }\n",
       "\n",
       "    .dataframe thead th {\n",
       "        text-align: right;\n",
       "    }\n",
       "</style>\n",
       "<table border=\"1\" class=\"dataframe\">\n",
       "  <thead>\n",
       "    <tr style=\"text-align: right;\">\n",
       "      <th></th>\n",
       "      <th>tBodyAcc-mean()-X</th>\n",
       "      <th>tBodyAcc-mean()-Y</th>\n",
       "      <th>tBodyAcc-mean()-Z</th>\n",
       "      <th>tBodyAcc-std()-X</th>\n",
       "      <th>tBodyAcc-std()-Y</th>\n",
       "      <th>tBodyAcc-std()-Z</th>\n",
       "      <th>tBodyAcc-mad()-X</th>\n",
       "      <th>tBodyAcc-mad()-Y</th>\n",
       "      <th>tBodyAcc-mad()-Z</th>\n",
       "      <th>tBodyAcc-max()-X</th>\n",
       "      <th>...</th>\n",
       "      <th>fBodyBodyGyroJerkMag-skewness()</th>\n",
       "      <th>fBodyBodyGyroJerkMag-kurtosis()</th>\n",
       "      <th>angle(tBodyAccMean,gravity)</th>\n",
       "      <th>angle(tBodyAccJerkMean),gravityMean)</th>\n",
       "      <th>angle(tBodyGyroMean,gravityMean)</th>\n",
       "      <th>angle(tBodyGyroJerkMean,gravityMean)</th>\n",
       "      <th>angle(X,gravityMean)</th>\n",
       "      <th>angle(Y,gravityMean)</th>\n",
       "      <th>angle(Z,gravityMean)</th>\n",
       "      <th>activity</th>\n",
       "    </tr>\n",
       "  </thead>\n",
       "  <tbody>\n",
       "    <tr>\n",
       "      <th>0</th>\n",
       "      <td>0.278419</td>\n",
       "      <td>-0.016411</td>\n",
       "      <td>-0.123520</td>\n",
       "      <td>-0.998245</td>\n",
       "      <td>-0.975300</td>\n",
       "      <td>-0.960322</td>\n",
       "      <td>-0.998807</td>\n",
       "      <td>-0.974914</td>\n",
       "      <td>-0.957686</td>\n",
       "      <td>-0.943068</td>\n",
       "      <td>...</td>\n",
       "      <td>-0.595051</td>\n",
       "      <td>-0.861499</td>\n",
       "      <td>0.053477</td>\n",
       "      <td>-0.007435</td>\n",
       "      <td>-0.732626</td>\n",
       "      <td>0.703511</td>\n",
       "      <td>-0.844788</td>\n",
       "      <td>0.180289</td>\n",
       "      <td>-0.054317</td>\n",
       "      <td>5</td>\n",
       "    </tr>\n",
       "    <tr>\n",
       "      <th>1</th>\n",
       "      <td>0.279653</td>\n",
       "      <td>-0.019467</td>\n",
       "      <td>-0.113462</td>\n",
       "      <td>-0.995380</td>\n",
       "      <td>-0.967187</td>\n",
       "      <td>-0.978944</td>\n",
       "      <td>-0.996520</td>\n",
       "      <td>-0.963668</td>\n",
       "      <td>-0.977469</td>\n",
       "      <td>-0.938692</td>\n",
       "      <td>...</td>\n",
       "      <td>-0.390748</td>\n",
       "      <td>-0.760104</td>\n",
       "      <td>-0.118559</td>\n",
       "      <td>0.177899</td>\n",
       "      <td>0.100699</td>\n",
       "      <td>0.808529</td>\n",
       "      <td>-0.848933</td>\n",
       "      <td>0.180637</td>\n",
       "      <td>-0.049118</td>\n",
       "      <td>5</td>\n",
       "    </tr>\n",
       "    <tr>\n",
       "      <th>2</th>\n",
       "      <td>0.279174</td>\n",
       "      <td>-0.026201</td>\n",
       "      <td>-0.123283</td>\n",
       "      <td>-0.996091</td>\n",
       "      <td>-0.983403</td>\n",
       "      <td>-0.990675</td>\n",
       "      <td>-0.997099</td>\n",
       "      <td>-0.982750</td>\n",
       "      <td>-0.989302</td>\n",
       "      <td>-0.938692</td>\n",
       "      <td>...</td>\n",
       "      <td>-0.117290</td>\n",
       "      <td>-0.482845</td>\n",
       "      <td>-0.036788</td>\n",
       "      <td>-0.012892</td>\n",
       "      <td>0.640011</td>\n",
       "      <td>-0.485366</td>\n",
       "      <td>-0.848649</td>\n",
       "      <td>0.181935</td>\n",
       "      <td>-0.047663</td>\n",
       "      <td>5</td>\n",
       "    </tr>\n",
       "    <tr>\n",
       "      <th>3</th>\n",
       "      <td>0.276629</td>\n",
       "      <td>-0.016570</td>\n",
       "      <td>-0.115362</td>\n",
       "      <td>-0.998139</td>\n",
       "      <td>-0.980817</td>\n",
       "      <td>-0.990482</td>\n",
       "      <td>-0.998321</td>\n",
       "      <td>-0.979672</td>\n",
       "      <td>-0.990441</td>\n",
       "      <td>-0.942469</td>\n",
       "      <td>...</td>\n",
       "      <td>-0.351471</td>\n",
       "      <td>-0.699205</td>\n",
       "      <td>0.123320</td>\n",
       "      <td>0.122542</td>\n",
       "      <td>0.693578</td>\n",
       "      <td>-0.615971</td>\n",
       "      <td>-0.847865</td>\n",
       "      <td>0.185151</td>\n",
       "      <td>-0.043892</td>\n",
       "      <td>5</td>\n",
       "    </tr>\n",
       "    <tr>\n",
       "      <th>4</th>\n",
       "      <td>0.277199</td>\n",
       "      <td>-0.010098</td>\n",
       "      <td>-0.105137</td>\n",
       "      <td>-0.997335</td>\n",
       "      <td>-0.990487</td>\n",
       "      <td>-0.995420</td>\n",
       "      <td>-0.997627</td>\n",
       "      <td>-0.990218</td>\n",
       "      <td>-0.995549</td>\n",
       "      <td>-0.942469</td>\n",
       "      <td>...</td>\n",
       "      <td>-0.545410</td>\n",
       "      <td>-0.844619</td>\n",
       "      <td>0.082632</td>\n",
       "      <td>-0.143439</td>\n",
       "      <td>0.275041</td>\n",
       "      <td>-0.368224</td>\n",
       "      <td>-0.849632</td>\n",
       "      <td>0.184823</td>\n",
       "      <td>-0.042126</td>\n",
       "      <td>5</td>\n",
       "    </tr>\n",
       "  </tbody>\n",
       "</table>\n",
       "<p>5 rows × 562 columns</p>\n",
       "</div>"
      ],
      "text/plain": [
       "   tBodyAcc-mean()-X  tBodyAcc-mean()-Y  tBodyAcc-mean()-Z  tBodyAcc-std()-X  \\\n",
       "0           0.278419          -0.016411          -0.123520         -0.998245   \n",
       "1           0.279653          -0.019467          -0.113462         -0.995380   \n",
       "2           0.279174          -0.026201          -0.123283         -0.996091   \n",
       "3           0.276629          -0.016570          -0.115362         -0.998139   \n",
       "4           0.277199          -0.010098          -0.105137         -0.997335   \n",
       "\n",
       "   tBodyAcc-std()-Y  tBodyAcc-std()-Z  tBodyAcc-mad()-X  tBodyAcc-mad()-Y  \\\n",
       "0         -0.975300         -0.960322         -0.998807         -0.974914   \n",
       "1         -0.967187         -0.978944         -0.996520         -0.963668   \n",
       "2         -0.983403         -0.990675         -0.997099         -0.982750   \n",
       "3         -0.980817         -0.990482         -0.998321         -0.979672   \n",
       "4         -0.990487         -0.995420         -0.997627         -0.990218   \n",
       "\n",
       "   tBodyAcc-mad()-Z  tBodyAcc-max()-X  ...  fBodyBodyGyroJerkMag-skewness()  \\\n",
       "0         -0.957686         -0.943068  ...                        -0.595051   \n",
       "1         -0.977469         -0.938692  ...                        -0.390748   \n",
       "2         -0.989302         -0.938692  ...                        -0.117290   \n",
       "3         -0.990441         -0.942469  ...                        -0.351471   \n",
       "4         -0.995549         -0.942469  ...                        -0.545410   \n",
       "\n",
       "   fBodyBodyGyroJerkMag-kurtosis()  angle(tBodyAccMean,gravity)  \\\n",
       "0                        -0.861499                     0.053477   \n",
       "1                        -0.760104                    -0.118559   \n",
       "2                        -0.482845                    -0.036788   \n",
       "3                        -0.699205                     0.123320   \n",
       "4                        -0.844619                     0.082632   \n",
       "\n",
       "   angle(tBodyAccJerkMean),gravityMean)  angle(tBodyGyroMean,gravityMean)  \\\n",
       "0                             -0.007435                         -0.732626   \n",
       "1                              0.177899                          0.100699   \n",
       "2                             -0.012892                          0.640011   \n",
       "3                              0.122542                          0.693578   \n",
       "4                             -0.143439                          0.275041   \n",
       "\n",
       "   angle(tBodyGyroJerkMean,gravityMean)  angle(X,gravityMean)  \\\n",
       "0                              0.703511             -0.844788   \n",
       "1                              0.808529             -0.848933   \n",
       "2                             -0.485366             -0.848649   \n",
       "3                             -0.615971             -0.847865   \n",
       "4                             -0.368224             -0.849632   \n",
       "\n",
       "   angle(Y,gravityMean)  angle(Z,gravityMean)  activity  \n",
       "0              0.180289             -0.054317         5  \n",
       "1              0.180637             -0.049118         5  \n",
       "2              0.181935             -0.047663         5  \n",
       "3              0.185151             -0.043892         5  \n",
       "4              0.184823             -0.042126         5  \n",
       "\n",
       "[5 rows x 562 columns]"
      ]
     },
     "execution_count": 3,
     "metadata": {},
     "output_type": "execute_result"
    }
   ],
   "source": [
    "train_df = pd.read_csv(path+\"train/X_train.txt\", delim_whitespace = True)\n",
    "train_df.columns = features\n",
    "\n",
    "#train_df[\"subject_id\"] = pd.read_csv(path+\"train/subject_train.txt\", header = None, squeeze = True) #squeeze = True will \n",
    "# #return data in pandas series format\n",
    "\n",
    "train_df[\"activity\"] = pd.read_csv(path+\"train/y_train.txt\", header = None, squeeze = True)\n",
    "\n",
    "test_df = pd.read_csv(path+\"test/X_test.txt\", delim_whitespace = True)\n",
    "\n",
    "#test_df[\"subject_id\"] = pd.read_csv(path+\"test/subject_test.txt\", header = None, squeeze = True)\n",
    "test_df[\"activity\"] = pd.read_csv(path+\"test/y_test.txt\", header = None, squeeze = True)\n",
    "\n",
    "train_df.head()"
   ]
  },
  {
   "cell_type": "code",
   "execution_count": 4,
   "metadata": {},
   "outputs": [
    {
     "name": "stdout",
     "output_type": "stream",
     "text": [
      "Model: \"functional_1\"\n",
      "_________________________________________________________________\n",
      "Layer (type)                 Output Shape              Param #   \n",
      "=================================================================\n",
      "input_1 (InputLayer)         [(None, 562)]             0         \n",
      "_________________________________________________________________\n",
      "dense (Dense)                (None, 128)               72064     \n",
      "_________________________________________________________________\n",
      "dense_1 (Dense)              (None, 64)                8256      \n",
      "_________________________________________________________________\n",
      "dense_2 (Dense)              (None, 32)                2080      \n",
      "_________________________________________________________________\n",
      "dense_3 (Dense)              (None, 64)                2112      \n",
      "_________________________________________________________________\n",
      "dense_4 (Dense)              (None, 128)               8320      \n",
      "_________________________________________________________________\n",
      "dense_5 (Dense)              (None, 562)               72498     \n",
      "=================================================================\n",
      "Total params: 165,330\n",
      "Trainable params: 165,330\n",
      "Non-trainable params: 0\n",
      "_________________________________________________________________\n"
     ]
    }
   ],
   "source": [
    "input = Input(shape=(562,))\n",
    "\n",
    "encoded = Dense(128, activation='relu')(input)\n",
    "encoded = Dense(64, activation='relu')(encoded)\n",
    "encoded = Dense(32, activation='relu')(encoded)\n",
    "\n",
    "decoded = Dense(64, activation='relu')(encoded)\n",
    "decoded = Dense(128, activation='relu')(decoded)\n",
    "decoded = Dense(562, activation='sigmoid')(decoded)\n",
    "\n",
    "deep_autoencoder = Model(input, decoded)\n",
    "\n",
    "deep_autoencoder.summary()\n",
    "deep_autoencoder.compile(optimizer='adadelta', loss='categorical_hinge', metrics=['accuracy'])"
   ]
  },
  {
   "cell_type": "code",
   "execution_count": 5,
   "metadata": {
    "scrolled": true
   },
   "outputs": [
    {
     "name": "stdout",
     "output_type": "stream",
     "text": [
      "Epoch 1/25\n",
      "29/29 [==============================] - 1s 23ms/step - loss: 142.8982 - accuracy: 0.0000e+00 - val_loss: 143.1066 - val_accuracy: 0.0000e+00\n",
      "Epoch 2/25\n",
      "29/29 [==============================] - 0s 10ms/step - loss: 142.8061 - accuracy: 0.0000e+00 - val_loss: 143.0068 - val_accuracy: 0.0000e+00\n",
      "Epoch 3/25\n",
      "29/29 [==============================] - 0s 10ms/step - loss: 142.6956 - accuracy: 0.0000e+00 - val_loss: 142.8819 - val_accuracy: 0.0000e+00\n",
      "Epoch 4/25\n",
      "29/29 [==============================] - 0s 10ms/step - loss: 142.5484 - accuracy: 0.0000e+00 - val_loss: 142.7106 - val_accuracy: 0.0000e+00\n",
      "Epoch 5/25\n",
      "29/29 [==============================] - 0s 10ms/step - loss: 142.3501 - accuracy: 0.0000e+00 - val_loss: 142.4870 - val_accuracy: 0.0000e+00\n",
      "Epoch 6/25\n",
      "29/29 [==============================] - 0s 10ms/step - loss: 142.0934 - accuracy: 0.0000e+00 - val_loss: 142.1982 - val_accuracy: 0.0000e+00\n",
      "Epoch 7/25\n",
      "29/29 [==============================] - 0s 11ms/step - loss: 141.7561 - accuracy: 0.0000e+00 - val_loss: 141.8102 - val_accuracy: 0.0000e+00\n",
      "Epoch 8/25\n",
      "29/29 [==============================] - 0s 11ms/step - loss: 141.2996 - accuracy: 0.0000e+00 - val_loss: 141.2810 - val_accuracy: 0.0000e+00\n",
      "Epoch 9/25\n",
      "29/29 [==============================] - 0s 10ms/step - loss: 140.6651 - accuracy: 0.0000e+00 - val_loss: 140.5230 - val_accuracy: 0.0000e+00\n",
      "Epoch 10/25\n",
      "29/29 [==============================] - 0s 10ms/step - loss: 139.7225 - accuracy: 0.0000e+00 - val_loss: 139.3557 - val_accuracy: 0.0000e+00\n",
      "Epoch 11/25\n",
      "29/29 [==============================] - 0s 11ms/step - loss: 138.2100 - accuracy: 0.0000e+00 - val_loss: 137.3951 - val_accuracy: 0.0000e+00\n",
      "Epoch 12/25\n",
      "29/29 [==============================] - 0s 10ms/step - loss: 135.5281 - accuracy: 0.0000e+00 - val_loss: 133.7001 - val_accuracy: 0.0000e+00\n",
      "Epoch 13/25\n",
      "29/29 [==============================] - 0s 14ms/step - loss: 130.0743 - accuracy: 0.0000e+00 - val_loss: 125.5655 - val_accuracy: 0.0000e+00\n",
      "Epoch 14/25\n",
      "29/29 [==============================] - 0s 15ms/step - loss: 116.7226 - accuracy: 0.0252 - val_loss: 104.0070 - val_accuracy: 0.7946\n",
      "Epoch 15/25\n",
      "29/29 [==============================] - 0s 12ms/step - loss: 81.7057 - accuracy: 0.9811 - val_loss: 52.1092 - val_accuracy: 0.9976\n",
      "Epoch 16/25\n",
      "29/29 [==============================] - 0s 10ms/step - loss: 24.0769 - accuracy: 0.9967 - val_loss: 3.2083 - val_accuracy: 0.9976\n",
      "Epoch 17/25\n",
      "29/29 [==============================] - 0s 14ms/step - loss: 1.2576 - accuracy: 0.9969 - val_loss: 0.2431 - val_accuracy: 0.9976\n",
      "Epoch 18/25\n",
      "29/29 [==============================] - 0s 14ms/step - loss: 0.1995 - accuracy: 0.9971 - val_loss: 0.0949 - val_accuracy: 0.9976\n",
      "Epoch 19/25\n",
      "29/29 [==============================] - 0s 11ms/step - loss: 0.1024 - accuracy: 0.9971 - val_loss: 0.0554 - val_accuracy: 0.9976\n",
      "Epoch 20/25\n",
      "29/29 [==============================] - 0s 11ms/step - loss: 0.0677 - accuracy: 0.9971 - val_loss: 0.0370 - val_accuracy: 0.9976\n",
      "Epoch 21/25\n",
      "29/29 [==============================] - 0s 10ms/step - loss: 0.0489 - accuracy: 0.9971 - val_loss: 0.0262 - val_accuracy: 0.9976\n",
      "Epoch 22/25\n",
      "29/29 [==============================] - 0s 10ms/step - loss: 0.0370 - accuracy: 0.9971 - val_loss: 0.0193 - val_accuracy: 0.9976\n",
      "Epoch 23/25\n",
      "29/29 [==============================] - 0s 10ms/step - loss: 0.0291 - accuracy: 0.9971 - val_loss: 0.0147 - val_accuracy: 0.9976\n",
      "Epoch 24/25\n",
      "29/29 [==============================] - 0s 10ms/step - loss: 0.0237 - accuracy: 0.9971 - val_loss: 0.0113 - val_accuracy: 0.9976\n",
      "Epoch 25/25\n",
      "29/29 [==============================] - 0s 10ms/step - loss: 0.0195 - accuracy: 0.9971 - val_loss: 0.0087 - val_accuracy: 0.9976\n"
     ]
    }
   ],
   "source": [
    "history = deep_autoencoder.fit(\n",
    "    train_df,\n",
    "    train_df,\n",
    "    epochs=25,\n",
    "    batch_size=256,\n",
    "    validation_data=(test_df, test_df)\n",
    ")"
   ]
  },
  {
   "cell_type": "code",
   "execution_count": 6,
   "metadata": {},
   "outputs": [
    {
     "data": {
      "text/plain": [
       "Text(0.5, 1.0, 'Test Loss')"
      ]
     },
     "execution_count": 6,
     "metadata": {},
     "output_type": "execute_result"
    },
    {
     "data": {
      "image/png": "[encoded data removed]",
      "text/plain": [
       "<Figure size 1080x720 with 2 Axes>"
      ]
     },
     "metadata": {
      "needs_background": "light"
     },
     "output_type": "display_data"
    }
   ],
   "source": [
    "plt.figure(figsize=(15,10))\n",
    "ax = plt.subplot(1, 2, 1)\n",
    "plt.plot(history.history[\"loss\"])\n",
    "plt.title(\"Train Loss\")\n",
    "ax = plt.subplot(1, 2, 2)\n",
    "plt.plot(history.history[\"val_loss\"])\n",
    "plt.title(\"Test Loss\")"
   ]
  },
  {
   "cell_type": "code",
   "execution_count": 7,
   "metadata": {},
   "outputs": [
    {
     "data": {
      "text/plain": [
       "Text(0.5, 1.0, 'Accuracy')"
      ]
     },
     "execution_count": 7,
     "metadata": {},
     "output_type": "execute_result"
    },
    {
     "data": {
      "image/png": "[encoded data removed]",
      "text/plain": [
       "<Figure size 1080x720 with 1 Axes>"
      ]
     },
     "metadata": {
      "needs_background": "light"
     },
     "output_type": "display_data"
    }
   ],
   "source": [
    "plt.figure(figsize=(15,10))\n",
    "plt.plot(history.history[\"accuracy\"])\n",
    "plt.title(\"Accuracy\")"
   ]
  }
 ],
 "metadata": {
  "kernelspec": {
   "display_name": "Python 3",
   "language": "python",
   "name": "python3"
  },
  "language_info": {
   "codemirror_mode": {
    "name": "ipython",
    "version": 3
   },
   "file_extension": ".py",
   "mimetype": "text/x-python",
   "name": "python",
   "nbconvert_exporter": "python",
   "pygments_lexer": "ipython3",
   "version": "3.7.3"
  }
 },
 "nbformat": 4,
 "nbformat_minor": 2
}
